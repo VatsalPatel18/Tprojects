{
 "cells": [
  {
   "cell_type": "code",
   "execution_count": 1,
   "id": "c46b11f3-eab6-45c7-ae20-f0c22e34dbf9",
   "metadata": {},
   "outputs": [
    {
     "name": "stderr",
     "output_type": "stream",
     "text": [
      "/home/vatsal-patel/anaconda3/envs/unsloth_env/lib/python3.10/site-packages/tqdm/auto.py:21: TqdmWarning: IProgress not found. Please update jupyter and ipywidgets. See https://ipywidgets.readthedocs.io/en/stable/user_install.html\n",
      "  from .autonotebook import tqdm as notebook_tqdm\n"
     ]
    }
   ],
   "source": [
    "import json\n",
    "import datasets\n",
    "from datasets import Dataset\n",
    "import transformers\n",
    "from transformers import AutoTokenizer, AutoModelForCausalLM, Trainer, TrainingArguments\n",
    "from peft import LoraConfig, get_peft_model\n",
    "\n",
    "# Load dataset from JSON file\n",
    "def load_dataset(filename='weather_chatbot_dataset.json'):\n",
    "    with open(filename, 'r') as f:\n",
    "        data = json.load(f)\n",
    "    # Convert list of dictionaries to dictionary of lists\n",
    "    columns = {key: [dic[key] for dic in data] for key in data[0]}\n",
    "    return Dataset.from_dict(columns)\n",
    "\n",
    "# Load the dataset\n",
    "data = load_dataset()"
   ]
  },
  {
   "cell_type": "code",
   "execution_count": 19,
   "id": "4e42aa35-d5a0-4b57-8f58-faa8f2128bf6",
   "metadata": {},
   "outputs": [
    {
     "data": {
      "text/plain": [
       "Dataset({\n",
       "    features: ['user_input', 'intent_extraction', 'api_response', 'assistant_response'],\n",
       "    num_rows: 376\n",
       "})"
      ]
     },
     "execution_count": 19,
     "metadata": {},
     "output_type": "execute_result"
    }
   ],
   "source": [
    "data"
   ]
  },
  {
   "cell_type": "code",
   "execution_count": 21,
   "id": "d61577dc-3f84-4299-911e-0fbd1be7e014",
   "metadata": {},
   "outputs": [
    {
     "data": {
      "text/plain": [
       "{'user_input': 'What is the current weather in Warsaw today?',\n",
       " 'intent_extraction': {'entities': {'city': 'Warsaw', 'date': 'today'},\n",
       "  'intent': 'current_weather'},\n",
       " 'api_response': {'date': None,\n",
       "  'description': 'clear sky',\n",
       "  'humidity': 65,\n",
       "  'location': 'Warsaw, PL',\n",
       "  'temperature': 18.25,\n",
       "  'wind_speed': 3.6},\n",
       " 'assistant_response': 'The weather in Warsaw is currently clear sky with a temperature of 18.25°C, wind speed of 3.6 meters per second, and humidity of 65%.'}"
      ]
     },
     "execution_count": 21,
     "metadata": {},
     "output_type": "execute_result"
    }
   ],
   "source": [
    "data[0]"
   ]
  },
  {
   "cell_type": "code",
   "execution_count": 2,
   "id": "45a34136-e9f8-43bd-b9f3-786006df8a9b",
   "metadata": {
    "scrolled": true
   },
   "outputs": [],
   "source": [
    "# !pip install --upgrade jupyter ipywidgets"
   ]
  },
  {
   "cell_type": "code",
   "execution_count": 3,
   "id": "95493d73-0cf2-4e50-bf56-75e04a8c14b0",
   "metadata": {},
   "outputs": [],
   "source": [
    "# !pip install tensorboard"
   ]
  },
  {
   "cell_type": "code",
   "execution_count": 4,
   "id": "38f75414-c1b7-40ed-a954-2678b9fd09ba",
   "metadata": {},
   "outputs": [
    {
     "name": "stderr",
     "output_type": "stream",
     "text": [
      "Special tokens have been added in the vocabulary, make sure the associated word embeddings are fine-tuned or trained.\n",
      "Loading checkpoint shards: 100%|██████████████████| 2/2 [00:07<00:00,  3.67s/it]\n"
     ]
    }
   ],
   "source": [
    "# Load tokenizer and model\n",
    "tokenizer = AutoTokenizer.from_pretrained('unsloth/Phi-3-mini-4k-instruct')\n",
    "model = AutoModelForCausalLM.from_pretrained('unsloth/Phi-3-mini-4k-instruct', trust_remote_code=True)"
   ]
  },
  {
   "cell_type": "code",
   "execution_count": 5,
   "id": "ce574039-01cb-4b72-bbb0-b07f953cebc4",
   "metadata": {},
   "outputs": [],
   "source": [
    "# Add adapter configuration\n",
    "peft_config = LoraConfig(\n",
    "    lora_alpha=16,\n",
    "    lora_dropout=0.1,\n",
    "    r=16,\n",
    "    bias=\"none\",\n",
    "    task_type=\"CAUSAL_LM\"\n",
    ")"
   ]
  },
  {
   "cell_type": "code",
   "execution_count": 6,
   "id": "9aa96914-e377-4ce7-8299-114f1a4b01ee",
   "metadata": {},
   "outputs": [],
   "source": [
    "# Get the PEFT model\n",
    "model = get_peft_model(model, peft_config)"
   ]
  },
  {
   "cell_type": "code",
   "execution_count": 7,
   "id": "09e44164-0f50-4040-a120-75d27c2c4b11",
   "metadata": {},
   "outputs": [
    {
     "name": "stderr",
     "output_type": "stream",
     "text": [
      "Map: 100%|████████████████████████████| 376/376 [00:00<00:00, 451.47 examples/s]\n"
     ]
    }
   ],
   "source": [
    "def tokenize_function(examples):\n",
    "    inputs = examples['user_input']\n",
    "    responses = examples['assistant_response']\n",
    "    model_inputs = tokenizer(inputs, padding=\"max_length\", truncation=True)\n",
    "    model_inputs[\"labels\"] = tokenizer(responses, padding=\"max_length\", truncation=True)[\"input_ids\"]\n",
    "    return model_inputs\n",
    "\n",
    "tokenized_data = data.map(tokenize_function, batched=True)"
   ]
  },
  {
   "cell_type": "code",
   "execution_count": 8,
   "id": "ea432df7-b12e-40a7-946e-495e864ac9a1",
   "metadata": {},
   "outputs": [],
   "source": [
    "# Prepare data collator\n",
    "data_collator = transformers.DataCollatorForLanguageModeling(\n",
    "    tokenizer=tokenizer,\n",
    "    mlm=False,\n",
    ")"
   ]
  },
  {
   "cell_type": "code",
   "execution_count": 9,
   "id": "c61875ee-5ddf-47e9-ab31-41cc117df500",
   "metadata": {},
   "outputs": [],
   "source": [
    "# # Training arguments\n",
    "# training_args = TrainingArguments(\n",
    "#     output_dir=\"./results\",\n",
    "#     overwrite_output_dir=True,\n",
    "#     num_train_epochs=3,\n",
    "#     per_device_train_batch_size=2,  # Reduce batch size\n",
    "#     save_steps=10_000,\n",
    "#     save_total_limit=2,\n",
    "#     prediction_loss_only=True,\n",
    "#     fp16=False,  # Set to False for CPU training\n",
    "# )\n"
   ]
  },
  {
   "cell_type": "code",
   "execution_count": 27,
   "id": "a6f490d2-36f0-4bae-ac54-4325a8f95929",
   "metadata": {},
   "outputs": [],
   "source": [
    "# Training arguments\n",
    "training_args = TrainingArguments(\n",
    "    output_dir=\"./results\",\n",
    "    overwrite_output_dir=True,\n",
    "    num_train_epochs=3,\n",
    "    per_device_train_batch_size=1,  # Smaller batch size\n",
    "    gradient_accumulation_steps=8,  # Simulate a larger batch size\n",
    "    save_steps=10_000,\n",
    "    save_total_limit=2,\n",
    "    prediction_loss_only=True,\n",
    "    fp16=False,  # Set to False for CPU training\n",
    "    # no_cuda=True,\n",
    "    use_cpu=True,\n",
    "    logging_dir='./logs',  # TensorBoard log directory\n",
    "    logging_steps=500,  # Log every 500 steps\n",
    "    # weight_decay=0.01,  # Apply weight decay\n",
    ")\n"
   ]
  },
  {
   "cell_type": "code",
   "execution_count": null,
   "id": "bcec0aaf-aaa4-4c6f-89a2-672b47cf6fd2",
   "metadata": {},
   "outputs": [],
   "source": []
  },
  {
   "cell_type": "code",
   "execution_count": null,
   "id": "0b41ee34-885b-4bcf-b5dd-9d6b6b8cc47e",
   "metadata": {},
   "outputs": [],
   "source": []
  },
  {
   "cell_type": "code",
   "execution_count": 28,
   "id": "ee439c8b-6f31-4a93-87f7-151ad92c43bb",
   "metadata": {},
   "outputs": [],
   "source": [
    "#### GPU TRAINING \n",
    "\n",
    "# training_args = TrainingArguments(\n",
    "#     output_dir=\"./results\",\n",
    "#     overwrite_output_dir=True,\n",
    "#     num_train_epochs=3,\n",
    "#     per_device_train_batch_size=1,  # Start with 1 due to limited VRAM\n",
    "#     save_steps=10_000,\n",
    "#     save_total_limit=2,\n",
    "#     prediction_loss_only=True,\n",
    "#     fp16=True,  # Enable mixed precision\n",
    "#     logging_dir='./logs',\n",
    "#     logging_steps=500,\n",
    "# )\n"
   ]
  },
  {
   "cell_type": "code",
   "execution_count": null,
   "id": "edf6f07d-44db-4bd6-81e6-de01937d2fae",
   "metadata": {},
   "outputs": [],
   "source": []
  },
  {
   "cell_type": "code",
   "execution_count": 29,
   "id": "1939cb00-4ee3-43d5-8d25-4147f009d198",
   "metadata": {},
   "outputs": [],
   "source": [
    "import torch\n",
    "torch.cuda.empty_cache()"
   ]
  },
  {
   "cell_type": "code",
   "execution_count": 30,
   "id": "d486692a-eaa8-42dc-9447-b4b16d940293",
   "metadata": {},
   "outputs": [],
   "source": [
    "trainer = Trainer(\n",
    "    model=model,\n",
    "    args=training_args,\n",
    "    data_collator=data_collator,\n",
    "    train_dataset=tokenized_data,\n",
    "    eval_dataset=tokenized_data,  # Use the same dataset for evaluation for simplicity\n",
    ")\n"
   ]
  },
  {
   "cell_type": "code",
   "execution_count": 16,
   "id": "35d8af4d-b8b1-4c4d-8a80-7d22a61d13ae",
   "metadata": {},
   "outputs": [],
   "source": [
    "# !ssh -T git@hf.co"
   ]
  },
  {
   "cell_type": "code",
   "execution_count": null,
   "id": "56bdc10f-811b-4558-adf8-6801fc6fcf4f",
   "metadata": {},
   "outputs": [],
   "source": [
    "# Train the model\n",
    "trainer.train()\n"
   ]
  },
  {
   "cell_type": "code",
   "execution_count": null,
   "id": "90f349f2-e38f-48e6-86a7-c27b4294c69d",
   "metadata": {},
   "outputs": [],
   "source": [
    "# Evaluate the model\n",
    "results = trainer.evaluate()\n",
    "\n",
    "print(f\"Perplexity: {math.exp(results['eval_loss']):.2f}\")\n"
   ]
  },
  {
   "cell_type": "code",
   "execution_count": null,
   "id": "2b68d1ea-4086-493d-aefc-546034eddd09",
   "metadata": {},
   "outputs": [],
   "source": [
    "import matplotlib.pyplot as plt\n",
    "\n",
    "def plot_loss(training_args):\n",
    "    logs = []\n",
    "    with open(training_args.logging_dir + '/events.out.tfevents.*', 'r') as f:\n",
    "        for line in f:\n",
    "            if 'loss' in line:\n",
    "                logs.append(json.loads(line))\n",
    "\n",
    "    steps = [log['step'] for log in logs]\n",
    "    loss = [log['loss'] for log in logs]\n",
    "\n",
    "    plt.figure(figsize=(10, 5))\n",
    "    plt.plot(steps, loss, label='Training Loss')\n",
    "    plt.xlabel('Steps')\n",
    "    plt.ylabel('Loss')\n",
    "    plt.legend()\n",
    "    plt.show()\n",
    "\n",
    "plot_loss(training_args)\n"
   ]
  },
  {
   "cell_type": "code",
   "execution_count": null,
   "id": "cf72e8d9-fd8a-4e29-a28b-f28a236186ab",
   "metadata": {},
   "outputs": [],
   "source": []
  },
  {
   "cell_type": "code",
   "execution_count": 24,
   "id": "cd049237-e723-4823-8792-83e692b3b8a1",
   "metadata": {},
   "outputs": [],
   "source": [
    "# !nvidia-smi"
   ]
  },
  {
   "cell_type": "code",
   "execution_count": 24,
   "id": "49778cce-6830-4a37-a661-a91510bd7235",
   "metadata": {},
   "outputs": [],
   "source": [
    "\n",
    "\n",
    "# Save the model and tokenizer\n",
    "# model.save_pretrained('path_to_save_your_model')\n",
    "# tokenizer.save_pretrained('path_to_save_your_model')\n"
   ]
  },
  {
   "cell_type": "code",
   "execution_count": null,
   "id": "beb4ea1d-2977-4119-ac86-30c95009fdff",
   "metadata": {},
   "outputs": [],
   "source": []
  }
 ],
 "metadata": {
  "kernelspec": {
   "display_name": "Python (Unsloth)",
   "language": "python",
   "name": "unsloth_env"
  },
  "language_info": {
   "codemirror_mode": {
    "name": "ipython",
    "version": 3
   },
   "file_extension": ".py",
   "mimetype": "text/x-python",
   "name": "python",
   "nbconvert_exporter": "python",
   "pygments_lexer": "ipython3",
   "version": "3.10.14"
  }
 },
 "nbformat": 4,
 "nbformat_minor": 5
}
