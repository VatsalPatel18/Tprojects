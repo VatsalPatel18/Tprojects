{
 "cells": [
  {
   "cell_type": "code",
   "execution_count": 1,
   "id": "278737f8-965f-44dc-9845-4ca202494c94",
   "metadata": {
    "scrolled": true
   },
   "outputs": [
    {
     "data": {
      "text/plain": [
       "{'coord': {'lon': -0.1257, 'lat': 51.5085},\n",
       " 'weather': [{'id': 803,\n",
       "   'main': 'Clouds',\n",
       "   'description': 'broken clouds',\n",
       "   'icon': '04d'}],\n",
       " 'base': 'stations',\n",
       " 'main': {'temp': 20.07,\n",
       "  'feels_like': 19.8,\n",
       "  'temp_min': 17.08,\n",
       "  'temp_max': 21.75,\n",
       "  'pressure': 1008,\n",
       "  'humidity': 64},\n",
       " 'visibility': 10000,\n",
       " 'wind': {'speed': 6.17, 'deg': 250},\n",
       " 'clouds': {'all': 75},\n",
       " 'dt': 1717506738,\n",
       " 'sys': {'type': 2,\n",
       "  'id': 2075535,\n",
       "  'country': 'GB',\n",
       "  'sunrise': 1717472806,\n",
       "  'sunset': 1717531879},\n",
       " 'timezone': 3600,\n",
       " 'id': 2643743,\n",
       " 'name': 'London',\n",
       " 'cod': 200}"
      ]
     },
     "execution_count": 1,
     "metadata": {},
     "output_type": "execute_result"
    }
   ],
   "source": [
    "import requests\n",
    "\n",
    "# Your OpenWeatherMap API key\n",
    "api_key = '337586e7326dcb828d7a386379093040'\n",
    "\n",
    "def get_weather(city):\n",
    "    url = f\"http://api.openweathermap.org/data/2.5/weather?q={city}&appid={api_key}&units=metric\"\n",
    "    response = requests.get(url)\n",
    "    \n",
    "    if response.status_code == 200:\n",
    "        data = response.json()\n",
    "        return data\n",
    "    else:\n",
    "        return f\"Error: Unable to fetch weather data (Status code: {response.status_code})\"\n",
    "\n",
    "\n"
   ]
  },
  {
   "cell_type": "code",
   "execution_count": 3,
   "id": "911a0e67-6918-4276-a8d9-7429ee5bd451",
   "metadata": {},
   "outputs": [
    {
     "data": {
      "text/plain": [
       "{'coord': {'lon': 88.3697, 'lat': 22.5697},\n",
       " 'weather': [{'id': 721,\n",
       "   'main': 'Haze',\n",
       "   'description': 'haze',\n",
       "   'icon': '50n'}],\n",
       " 'base': 'stations',\n",
       " 'main': {'temp': 31.97,\n",
       "  'feels_like': 38.97,\n",
       "  'temp_min': 31.97,\n",
       "  'temp_max': 31.97,\n",
       "  'pressure': 1001,\n",
       "  'humidity': 79},\n",
       " 'visibility': 4000,\n",
       " 'wind': {'speed': 5.14, 'deg': 170},\n",
       " 'clouds': {'all': 40},\n",
       " 'dt': 1717507228,\n",
       " 'sys': {'type': 1,\n",
       "  'id': 9114,\n",
       "  'country': 'IN',\n",
       "  'sunrise': 1717456890,\n",
       "  'sunset': 1717505312},\n",
       " 'timezone': 19800,\n",
       " 'id': 1275004,\n",
       " 'name': 'Kolkata',\n",
       " 'cod': 200}"
      ]
     },
     "execution_count": 3,
     "metadata": {},
     "output_type": "execute_result"
    }
   ],
   "source": [
    "# Example usage\n",
    "city = \"Kolkata\"\n",
    "weather_data = get_weather(city)\n",
    "\n",
    "# Display the weather data\n",
    "weather_data"
   ]
  },
  {
   "cell_type": "code",
   "execution_count": null,
   "id": "df779333-b2b6-4fe3-849f-8e5b2cae3ec7",
   "metadata": {},
   "outputs": [],
   "source": []
  },
  {
   "cell_type": "code",
   "execution_count": 4,
   "id": "ca463e45-9342-4619-9b84-75b69f955d1f",
   "metadata": {},
   "outputs": [],
   "source": [
    "import random\n",
    "\n",
    "def generate_intent_dataset(num_samples=2000):\n",
    "    cities = [\"Kolkata\", \"New York\", \"London\", \"Tokyo\", \"Sydney\", \"Paris\", \"Berlin\", \"Toronto\", \"Mumbai\", \"Shanghai\"]\n",
    "    info_requests = [\"Current Weather\", \"Weather Forecast\"]\n",
    "    dataset = []\n",
    "\n",
    "    for _ in range(num_samples):\n",
    "        city = random.choice(cities)\n",
    "        info_request = random.choice(info_requests)\n",
    "        user_prompt = f\"What is the {info_request.lower()} in {city}?\"\n",
    "        intent_identification_response = {\n",
    "            \"City\": city,\n",
    "            \"InfoRequest\": info_request\n",
    "        }\n",
    "        dataset.append({\n",
    "            \"user_prompt\": user_prompt,\n",
    "            \"intent_identification_response\": intent_identification_response\n",
    "        })\n",
    "\n",
    "    return dataset\n",
    "\n",
    "# Generate the dataset\n",
    "intent_dataset = generate_intent_dataset()\n"
   ]
  },
  {
   "cell_type": "code",
   "execution_count": 6,
   "id": "3f0bdb5c-2e3a-42c7-a1f0-a906494b35ef",
   "metadata": {},
   "outputs": [],
   "source": [
    "# intent_dataset"
   ]
  },
  {
   "cell_type": "code",
   "execution_count": null,
   "id": "9e8844bd-9e2a-457f-830e-79c282d669e5",
   "metadata": {},
   "outputs": [],
   "source": [
    "import requests\n",
    "\n",
    "# Your OpenWeatherMap API key\n",
    "api_key = '337586e7326dcb828d7a386379093040'\n",
    "\n",
    "def get_weather(city):\n",
    "    url = f\"http://api.openweathermap.org/data/2.5/weather?q={city}&appid={api_key}&units=metric\"\n",
    "    response = requests.get(url)\n",
    "    \n",
    "    if response.status_code == 200:\n",
    "        data = response.json()\n",
    "        return data\n",
    "    else:\n",
    "        return None\n",
    "\n",
    "def generate_response_dataset(intent_dataset):\n",
    "    response_dataset = []\n",
    "\n",
    "    for entry in intent_dataset:\n",
    "        city = entry[\"intent_identification_response\"][\"City\"]\n",
    "        user_prompt = entry[\"user_prompt\"]\n",
    "        api_response = get_weather(city)\n",
    "        \n",
    "        if api_response is not None:\n",
    "            weather = api_response['weather'][0]['description']\n",
    "            temp = api_response['main']['temp']\n",
    "            feels_like = api_response['main']['feels_like']\n",
    "            humidity = api_response['main']['humidity']\n",
    "            wind_speed = api_response['wind']['speed']\n",
    "            clouds = api_response['clouds']['all']\n",
    "\n",
    "            generated_response = (\n",
    "                f\"The weather in {city} is currently {weather} with a temperature of {temp}°C, \"\n",
    "                f\"feeling like {feels_like}°C. The humidity is {humidity}%, and the wind is blowing at \"\n",
    "                f\"{wind_speed} m/s. There are some clouds covering {clouds}% of the sky.\"\n",
    "            )\n",
    "            \n",
    "            response_dataset.append({\n",
    "                \"user_prompt\": user_prompt,\n",
    "                \"intent_identification_response\": entry[\"intent_identification_response\"],\n",
    "                \"api_response\": api_response,\n",
    "                \"generated_response\": generated_response\n",
    "            })\n",
    "\n",
    "    return response_dataset\n",
    "\n",
    "# Generate the response dataset\n",
    "response_dataset = generate_response_dataset(intent_dataset)\n"
   ]
  },
  {
   "cell_type": "code",
   "execution_count": null,
   "id": "65add7e0-f925-45b9-a254-e4b37c74e50d",
   "metadata": {},
   "outputs": [],
   "source": [
    "response_dataset"
   ]
  },
  {
   "cell_type": "code",
   "execution_count": null,
   "id": "96fa4d3e-9795-474e-9aab-f02ee1aeef6c",
   "metadata": {},
   "outputs": [],
   "source": [
    "import json\n",
    "\n",
    "# Save the intent identification dataset\n",
    "with open('intent_identification_dataset.json', 'w') as f:\n",
    "    json.dump(intent_dataset, f, indent=4)\n",
    "\n",
    "# Save the response generation dataset\n",
    "with open('response_generation_dataset.json', 'w') as f:\n",
    "    json.dump(response_dataset, f, indent=4)\n"
   ]
  },
  {
   "cell_type": "code",
   "execution_count": null,
   "id": "8714df2b-c0b7-42b0-9cd1-25088b02fceb",
   "metadata": {},
   "outputs": [],
   "source": []
  }
 ],
 "metadata": {
  "kernelspec": {
   "display_name": "Python 3 (ipykernel)",
   "language": "python",
   "name": "python3"
  },
  "language_info": {
   "codemirror_mode": {
    "name": "ipython",
    "version": 3
   },
   "file_extension": ".py",
   "mimetype": "text/x-python",
   "name": "python",
   "nbconvert_exporter": "python",
   "pygments_lexer": "ipython3",
   "version": "3.11.7"
  }
 },
 "nbformat": 4,
 "nbformat_minor": 5
}
