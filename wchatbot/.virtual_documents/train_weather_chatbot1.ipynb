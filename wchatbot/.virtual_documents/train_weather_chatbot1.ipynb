import json
import datasets
from datasets import Dataset
import transformers
from transformers import AutoTokenizer, AutoModelForCausalLM, Trainer, TrainingArguments
from peft import LoraConfig, get_peft_model

# Load dataset from JSON file
def load_dataset(filename='weather_chatbot_dataset.json'):
    with open(filename, 'r') as f:
        data = json.load(f)
    # Convert list of dictionaries to dictionary of lists
    columns = {key: [dic[key] for dic in data] for key in data[0]}
    return Dataset.from_dict(columns)

# Load the dataset
data = load_dataset()


data


data[0]


# !pip install --upgrade jupyter ipywidgets


# !pip install tensorboard


# Load tokenizer and model
tokenizer = AutoTokenizer.from_pretrained('unsloth/Phi-3-mini-4k-instruct')
model = AutoModelForCausalLM.from_pretrained('unsloth/Phi-3-mini-4k-instruct', trust_remote_code=True)


# Add adapter configuration
peft_config = LoraConfig(
    lora_alpha=16,
    lora_dropout=0.1,
    r=16,
    bias="none",
    task_type="CAUSAL_LM"
)


# Get the PEFT model
model = get_peft_model(model, peft_config)


def tokenize_function(examples):
    inputs = examples['user_input']
    responses = examples['assistant_response']
    model_inputs = tokenizer(inputs, padding="max_length", truncation=True)
    model_inputs["labels"] = tokenizer(responses, padding="max_length", truncation=True)["input_ids"]
    return model_inputs

tokenized_data = data.map(tokenize_function, batched=True)


# Prepare data collator
data_collator = transformers.DataCollatorForLanguageModeling(
    tokenizer=tokenizer,
    mlm=False,
)


# # Training arguments
# training_args = TrainingArguments(
#     output_dir="./results",
#     overwrite_output_dir=True,
#     num_train_epochs=3,
#     per_device_train_batch_size=2,  # Reduce batch size
#     save_steps=10_000,
#     save_total_limit=2,
#     prediction_loss_only=True,
#     fp16=False,  # Set to False for CPU training
# )



# Training arguments
training_args = TrainingArguments(
    output_dir="./results",
    overwrite_output_dir=True,
    num_train_epochs=3,
    per_device_train_batch_size=1,  # Smaller batch size
    gradient_accumulation_steps=8,  # Simulate a larger batch size
    save_steps=10_000,
    save_total_limit=2,
    prediction_loss_only=True,
    fp16=False,  # Set to False for CPU training
    # no_cuda=True,
    use_cpu=True,
    logging_dir='./logs',  # TensorBoard log directory
    logging_steps=500,  # Log every 500 steps
    # weight_decay=0.01,  # Apply weight decay
)









#### GPU TRAINING 

# training_args = TrainingArguments(
#     output_dir="./results",
#     overwrite_output_dir=True,
#     num_train_epochs=3,
#     per_device_train_batch_size=1,  # Start with 1 due to limited VRAM
#     save_steps=10_000,
#     save_total_limit=2,
#     prediction_loss_only=True,
#     fp16=True,  # Enable mixed precision
#     logging_dir='./logs',
#     logging_steps=500,
# )






import torch
torch.cuda.empty_cache()


trainer = Trainer(
    model=model,
    args=training_args,
    data_collator=data_collator,
    train_dataset=tokenized_data,
    eval_dataset=tokenized_data,  # Use the same dataset for evaluation for simplicity
)



# !ssh -T git@hf.co


# Train the model
trainer.train()



# Evaluate the model
results = trainer.evaluate()

print(f"Perplexity: {math.exp(results['eval_loss']):.2f}")



import matplotlib.pyplot as plt

def plot_loss(training_args):
    logs = []
    with open(training_args.logging_dir + '/events.out.tfevents.*', 'r') as f:
        for line in f:
            if 'loss' in line:
                logs.append(json.loads(line))

    steps = [log['step'] for log in logs]
    loss = [log['loss'] for log in logs]

    plt.figure(figsize=(10, 5))
    plt.plot(steps, loss, label='Training Loss')
    plt.xlabel('Steps')
    plt.ylabel('Loss')
    plt.legend()
    plt.show()

plot_loss(training_args)






# !nvidia-smi




# Save the model and tokenizer
# model.save_pretrained('path_to_save_your_model')
# tokenizer.save_pretrained('path_to_save_your_model')




