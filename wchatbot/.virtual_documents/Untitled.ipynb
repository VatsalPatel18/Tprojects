import requests

# Your OpenWeatherMap API key
api_key = '337586e7326dcb828d7a386379093040'

def get_weather(city):
    url = f"http://api.openweathermap.org/data/2.5/weather?q={city}&appid={api_key}&units=metric"
    response = requests.get(url)
    
    if response.status_code == 200:
        data = response.json()
        return data
    else:
        return f"Error: Unable to fetch weather data (Status code: {response.status_code})"





# Example usage
city = "Kolkata"
weather_data = get_weather(city)

# Display the weather data
weather_data





import random

def generate_intent_dataset(num_samples=2000):
    cities = ["Kolkata", "New York", "London", "Tokyo", "Sydney", "Paris", "Berlin", "Toronto", "Mumbai", "Shanghai"]
    info_requests = ["Current Weather", "Weather Forecast"]
    dataset = []

    for _ in range(num_samples):
        city = random.choice(cities)
        info_request = random.choice(info_requests)
        user_prompt = f"What is the {info_request.lower()} in {city}?"
        intent_identification_response = {
            "City": city,
            "InfoRequest": info_request
        }
        dataset.append({
            "user_prompt": user_prompt,
            "intent_identification_response": intent_identification_response
        })

    return dataset

# Generate the dataset
intent_dataset = generate_intent_dataset()



# intent_dataset


import requests

# Your OpenWeatherMap API key
api_key = '337586e7326dcb828d7a386379093040'

def get_weather(city):
    url = f"http://api.openweathermap.org/data/2.5/weather?q={city}&appid={api_key}&units=metric"
    response = requests.get(url)
    
    if response.status_code == 200:
        data = response.json()
        return data
    else:
        return None

def generate_response_dataset(intent_dataset):
    response_dataset = []

    for entry in intent_dataset:
        city = entry["intent_identification_response"]["City"]
        user_prompt = entry["user_prompt"]
        api_response = get_weather(city)
        
        if api_response is not None:
            weather = api_response['weather'][0]['description']
            temp = api_response['main']['temp']
            feels_like = api_response['main']['feels_like']
            humidity = api_response['main']['humidity']
            wind_speed = api_response['wind']['speed']
            clouds = api_response['clouds']['all']

            generated_response = (
                f"The weather in {city} is currently {weather} with a temperature of {temp}°C, "
                f"feeling like {feels_like}°C. The humidity is {humidity}%, and the wind is blowing at "
                f"{wind_speed} m/s. There are some clouds covering {clouds}% of the sky."
            )
            
            response_dataset.append({
                "user_prompt": user_prompt,
                "intent_identification_response": entry["intent_identification_response"],
                "api_response": api_response,
                "generated_response": generated_response
            })

    return response_dataset

# Generate the response dataset
response_dataset = generate_response_dataset(intent_dataset)



response_dataset


import json

# Save the intent identification dataset
with open('intent_identification_dataset.json', 'w') as f:
    json.dump(intent_dataset, f, indent=4)

# Save the response generation dataset
with open('response_generation_dataset.json', 'w') as f:
    json.dump(response_dataset, f, indent=4)




