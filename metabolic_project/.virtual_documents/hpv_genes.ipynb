import pandas as pd
import os


df = pd.read_csv('patientID_HPV_status.csv')


df['PATIENT_ID'] = df['PATIENT_ID'].apply(lambda x:x+'-01')


to_use = list(df[df['SUBTYPE']=='HNSC_HPV-']['PATIENT_ID'])


len(set(to_use))


df2 = pd.read_csv('metabolic_genes.1570.sCNV.TCGA.csv')


df2[df2['PatientID'].isin(to_use)].set_index('PatientID').to_csv('metabolic_genes.1570.sCNV.TCGA.hpvN.csv')


df3 = pd.read_csv('survival.data.509.TCGA.csv')


df3[df3['PatientID'].isin(to_use)].set_index('PatientID').to_csv('survival.data.509.TCGA.hpvN.csv')





df4 = pd.read_csv('survival.data.102.CPTAC.csv')


pd.concat([df3[df3['PatientID'].isin(to_use)],df4]).set_index('PatientID').to_csv('survival.data.517.TCGA.CPTAC.hpvN.csv')


df5 = pd.read_csv('metabolic_genes.1570.sCNV.CPTAC.csv')


pd.concat([df2[df2['PatientID'].isin(to_use)],df5]).set_index('PatientID').to_csv('metabolic_genes.1570.sCNV.TCGA.CPTAC.hpvN.csv')





from sklearn.preprocessing import MinMaxScaler



to_scale = df2[df2['PatientID'].isin(to_use)]


to_scale.set_index('PatientID',inplace=True)


scaler = MinMaxScaler(feature_range=(0, 1))
# scaled_data = scaler.fit_transform(to_scale.to_numpy())




# Create a new DataFrame with the scaled data, keeping the original column names
scaled_df = pd.DataFrame(scaled_data, columns=to_scale.columns,index=to_scale.index)


scaled_df.to_csv('metabolic_genes.1570.sCNV.TCGA.hpvN.scaled.csv')


df6 = pd.read_csv('metabolic_genes.1570.sCNV.CPTAC.csv')


df6


to_scale = df6


to_scale.set_index('PatientID',inplace=True)


to_scale


# scaler = MinMaxScaler(feature_range=(0, 1))
scaled_data = scaler.fit_transform(to_scale.to_numpy())




# Create a new DataFrame with the scaled data, keeping the original column names
scaled_df = pd.DataFrame(scaled_data, columns=to_scale.columns,index=to_scale.index)


scaled_df.to_csv('metabolic_genes.1570.sCNV.CPTAC.hpvN.scaled.csv')





df8 = pd.read_csv('tcga_cna_common_g.hpvN.csv')


df8.set_index('PatientID',inplace=True)


to_scale = df8





# scaler = MinMaxScaler(feature_range=(0, 1))
scaled_data = scaler.fit_transform(to_scale.to_numpy())
# Create a new DataFrame with the scaled data, keeping the original column names
scaled_df = pd.DataFrame(scaled_data, columns=to_scale.columns,index=to_scale.index)



scaled_df


scaled_df.to_csv('common_genes.23037.sCNV.TCGA.hpvN.scaled.csv')


df9 = pd.read_csv('cptac_cna_common_g.csv')



df9.rename(columns={'Unnamed: 0':'PatientID'},inplace=True)


df9.set_index('PatientID',inplace=True)


to_scale = df9


# scaler = MinMaxScaler(feature_range=(0, 1))
scaled_data = scaler.fit_transform(to_scale.to_numpy())
# Create a new DataFrame with the scaled data, keeping the original column names
scaled_df = pd.DataFrame(scaled_data, columns=to_scale.columns,index=to_scale.index)



scaled_df.to_csv('common_genes.23037.sCNV.CPTAC.hpvN.scaled.csv')



